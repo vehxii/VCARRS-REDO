{
 "cells": [
  {
   "cell_type": "code",
   "execution_count": 2,
   "id": "4f57bbe7-fb7b-4a4a-8d2b-f9bf35d52b25",
   "metadata": {},
   "outputs": [],
   "source": [
    "import astropy\n",
    "import dogpile.cache\n",
    "import fuzzywuzzy\n",
    "import os\n",
    "import re\n",
    "import marvin\n",
    "import marvin.utils.plot.map as mapplot\n",
    "import matplotlib\n",
    "import numpy as np\n",
    "import numpyencoder\n",
    "import packaging\n",
    "import pandas\n",
    "import photutils\n",
    "import raven\n",
    "import scipy\n",
    "import sdss_access\n",
    "import sdsstools\n",
    "import webargs\n",
    "import werkzeug\n",
    "import yamlordereddictloader\n",
    "\n",
    "\n",
    "import matplotlib.pyplot as plt\n",
    "from marvin import config\n",
    "from marvin.tools import Maps\n",
    "from marvin.tools.image import Image\n",
    "from marvin.tools.cube import Cube\n",
    "from marvin.tools import RSS\n",
    "from marvin.utils.general.general import get_drpall_table\n",
    "from marvin.api.api import Interaction\n",
    "\n",
    "from astropy.io import fits\n",
    "from astropy import units as u\n",
    "\n",
    "%matplotlib inline\n",
    "plt.style.use('seaborn-darkgrid')  # set matplotlib style sheet\n",
    "\n",
    "config.mode = 'remote'\n",
    "config.access = 'public'\n",
    "config.use_sentry = True\n",
    "config.setRelease('DR17')\n",
    "config.setDR('DR17')\n",
    "#config.sasurl\n",
    "#config.urlmap\n",
    "config.switchSasUrl(sasmode='mirror', ngrokid=None, port=5000, test=False, base=None, public=True)"
   ]
  },
  {
   "cell_type": "code",
   "execution_count": 3,
   "id": "56fbcb35-b173-4277-b53a-8eeb59c2c9d9",
   "metadata": {},
   "outputs": [],
   "source": [
    "#troubleshooting code\n",
    "\n",
    "#print(os.environ['SAS_BASE_DIR'])\n",
    "#print(marvin.config.urlmap)\n",
    "#testcube = Cube(plateifu='8485-1901')\n",
    "#print(testcube)\n",
    "#print(f\"RA: {testcube.ra}\")\n",
    "#print(f\"Dec: {testcube.dec}\")\n",
    "\n",
    "#print(testcube.nsa)\n",
    "\n",
    "# access the spaxel from the lower left corner of the Cube for 8485-1901\n",
    "#spaxel = testcube.getSpaxel(0,0)\n",
    "# represent the spaxel\n",
    "#print(spaxel)\n",
    "\n",
    "#flux = spaxel.flux\n",
    "#flux.plot()\n",
    "#print(flux.value, flux.ivar, flux.wavelength)\n",
    "\n",
    "#maps = testcube.getMaps()\n",
    "#print(maps)\n",
    "\n",
    "#maps = Maps(plateifu='7443-12703')\n",
    "#maps.datamodel\n",
    "\n",
    "#print(f\"Database access: {config.db}\")"
   ]
  },
  {
   "cell_type": "code",
   "execution_count": 4,
   "id": "a5ca101a-5b06-4d03-b3e7-c77d42dd9163",
   "metadata": {},
   "outputs": [
    {
     "name": "stdout",
     "output_type": "stream",
     "text": [
      "200 good if 200\n"
     ]
    }
   ],
   "source": [
    "# get and format an API url to retrieve basic Cube properties\n",
    "plateifu = '7443-12701'\n",
    "url = config.urlmap['api']['getCube']['url']\n",
    "\n",
    "# create and send the request, and retrieve a response\n",
    "response = Interaction(url.format(name=plateifu))\n",
    "\n",
    "# check your response's status code\n",
    "print(response.status_code, \"good if 200\")\n",
    "200\n",
    "\n",
    "# get the data in your response\n",
    "data = response.getData()\n",
    "#print(data)"
   ]
  },
  {
   "cell_type": "code",
   "execution_count": 115,
   "id": "336b602f-1b12-4b12-a0c1-10964a2375f8",
   "metadata": {},
   "outputs": [
    {
     "name": "stderr",
     "output_type": "stream",
     "text": [
      "[WARNING]: subprocess 10392 is still running (ResourceWarning)\n",
      "[WARNING]: subprocess 1688 is still running (ResourceWarning)\n"
     ]
    }
   ],
   "source": [
    "images = Image.from_list(['7443-12701', '7443-12702'])\n",
    "images[0].show()\n",
    "images[1].show()"
   ]
  },
  {
   "cell_type": "code",
   "execution_count": 5,
   "id": "02b4988a-b32f-4c73-9407-e3f5e26eb9c2",
   "metadata": {},
   "outputs": [],
   "source": [
    "#images2 = marvin.utils.general.images.get_images_by_plate(8485)\n",
    "#for image in images2:\n",
    "#    image.show()"
   ]
  },
  {
   "cell_type": "markdown",
   "id": "fb942771-c5b9-4ce5-b9c1-170ca5ecca26",
   "metadata": {},
   "source": [
    "**Goal:** redo VCARRS with expanded search using the small angle approx\n",
    "* use sklearn to train a model on sorting spiral vs elliptical\n",
    "* repeat rotation curve and CLD measurements to calculate DM content\n",
    "* create histograms of DM fraction vs # of galaxies, see if there's any differences between spiral and elliptical\n",
    "* **hypothesis:** elliptical galaxies have higher DM content due to slower rotation and random stellar orbits"
   ]
  },
  {
   "cell_type": "code",
   "execution_count": 16,
   "id": "2bacf0f3-4787-4911-9ddc-cfb33377776b",
   "metadata": {},
   "outputs": [
    {
     "name": "stdout",
     "output_type": "stream",
     "text": [
      "8084-1901 0.036058478\n",
      "10506-12702 0.023603031\n",
      "8311-9102 0.07186806\n",
      "9879-1901 0.019138573\n",
      "11836-12704 0.021477269\n"
     ]
    },
    {
     "name": "stderr",
     "output_type": "stream",
     "text": [
      "[WARNING]: cannot load NSA information for mangaid='51-200'. (MarvinUserWarning)\n"
     ]
    },
    {
     "name": "stdout",
     "output_type": "stream",
     "text": [
      "No cube for 10484-12703\n",
      "12514-12703 0.031982973\n",
      "12093-9102 0.09429927\n",
      "8997-12704 0.048329554\n",
      "8329-3702 0.04034506\n"
     ]
    },
    {
     "data": {
      "text/plain": [
       "<matplotlib.collections.PathCollection at 0x16bddd44130>"
      ]
     },
     "execution_count": 16,
     "metadata": {},
     "output_type": "execute_result"
    },
    {
     "data": {
      "image/png": "[encoded data removed]",
      "text/plain": [
       "<Figure size 640x480 with 1 Axes>"
      ]
     },
     "metadata": {},
     "output_type": "display_data"
    }
   ],
   "source": [
    "# testing different ways to get NSA parameters, specifically redshift z\n",
    "\n",
    "images3 = marvin.utils.general.images.get_random_images(10)\n",
    "test = []\n",
    "\n",
    "for item in images3:\n",
    "    #print(item.__dict__)\n",
    "    ifu = item.plateifu\n",
    "\n",
    "    try:\n",
    "        cube = Cube(plateifu = ifu)\n",
    "        print(ifu, cube.nsa['z'])\n",
    "        test.append(cube.nsa['z'])\n",
    "\n",
    "    except:\n",
    "        print(f\"No cube for {ifu}\")\n",
    "\n",
    "xaxis = np.arange(0, len(test), 1)\n",
    "plt.scatter(xaxis, test)"
   ]
  },
  {
   "cell_type": "code",
   "execution_count": 7,
   "id": "a46a2576-a6ab-4724-bad7-b777aa814a04",
   "metadata": {},
   "outputs": [
    {
     "name": "stdout",
     "output_type": "stream",
     "text": [
      "Marvin Query(filter='nsa.z < 0.05', mode='remote', data_origin='api')\n",
      "Marvin Results(query=nsa.z < 0.05, totalcount=7151, count=100, mode=remote)\n",
      "number of results: 7151\n"
     ]
    }
   ],
   "source": [
    "# the above method is slow and inefficient and sometimes fails completely when it finds a galaxy that lacks NSA params\n",
    "# Query is much faster:\n",
    "\n",
    "from marvin.tools.query import Query\n",
    "\n",
    "my_filter = 'nsa.z < 0.05'\n",
    "q = Query(search_filter=my_filter)\n",
    "print(q)\n",
    "\n",
    "# run the query\n",
    "r = q.run()\n",
    "\n",
    "# print some results information\n",
    "print(r)\n",
    "print('number of results:', r.totalcount)"
   ]
  },
  {
   "cell_type": "markdown",
   "id": "a37f9d59-2411-489d-b24f-34897910fe54",
   "metadata": {},
   "source": [
    "Easy First Step: Rotation Curve\n",
    "Steps:\n",
    "1. Import units and constants\n",
    "2. Seach for galaxies, start with a filter where the inclination angle ~ 0 degrees to our viewing plane\n",
    "3. Get a stellar velocity dispersion map for every such galaxy\n",
    "4. Calculate mass from the velocities"
   ]
  },
  {
   "cell_type": "code",
   "execution_count": 8,
   "id": "b3d4c484-0d0a-45dc-bfc4-03adbc4984ae",
   "metadata": {},
   "outputs": [],
   "source": [
    "# using previous work (STARS final project) as hints\n",
    "\n",
    "from astropy import constants as C\n",
    "from astropy import units as u\n",
    "from marvin.tools.query import Query\n",
    "from marvin.tools import Maps"
   ]
  },
  {
   "cell_type": "markdown",
   "id": "4106a8d2-9e80-4fa7-889c-d686c364a8a7",
   "metadata": {},
   "source": [
    "elpetro_ba is the b/a ratio. a high b/a (close to 1) means that the galaxy is close to perfectly face-on, while a low b/a (close to 0) means that the galaxy is perfectly edge-on"
   ]
  },
  {
   "cell_type": "code",
   "execution_count": 9,
   "id": "ad064e85-6058-4bd4-aaeb-0a446be6c899",
   "metadata": {},
   "outputs": [
    {
     "name": "stdout",
     "output_type": "stream",
     "text": [
      "Marvin Query(filter='nsa.elpetro_ba < 0.17', mode='remote', data_origin='api')\n",
      "number of results: 3\n"
     ]
    }
   ],
   "source": [
    "my_filter = 'nsa.elpetro_ba < 0.17'\n",
    "q = Query(search_filter=my_filter)\n",
    "print(q)\n",
    "\n",
    "# run the query\n",
    "r = q.run()\n",
    "\n",
    "# print some results information\n",
    "print('number of results:', r.totalcount)"
   ]
  },
  {
   "cell_type": "code",
   "execution_count": 13,
   "id": "2a79251a-62aa-4819-a63a-5c12b2d3ff2c",
   "metadata": {},
   "outputs": [
    {
     "name": "stderr",
     "output_type": "stream",
     "text": [
      "[ERROR]: Traceback (most recent call last):\n",
      "  File \u001b[36m\"C:\\Users\\steph\\miniconda3\\envs\\marvin\\lib\\site-packages\\brain\\api\\api.py\"\u001b[39;49;00m, line \u001b[34m201\u001b[39;49;00m, in _checkResponse\u001b[37m\u001b[39;49;00m\n",
      "\u001b[37m    \u001b[39;49;00misbad = response.raise_for_status()\u001b[37m\u001b[39;49;00m\n",
      "  File \u001b[36m\"C:\\Users\\steph\\miniconda3\\envs\\marvin\\lib\\site-packages\\requests\\models.py\"\u001b[39;49;00m, line \u001b[34m1026\u001b[39;49;00m, in raise_for_status\u001b[37m\u001b[39;49;00m\n",
      "\u001b[37m    \u001b[39;49;00m\u001b[34mraise\u001b[39;49;00m HTTPError(http_error_msg, response=\u001b[36mself\u001b[39;49;00m)\u001b[37m\u001b[39;49;00m\n",
      "\u001b[91mrequests.exceptions.HTTPError\u001b[39;49;00m: 429 Client Error: TOO MANY REQUESTS for url: https://magrathea.sdss.org/marvin/api/maps/8485-1901/HYB10/MILESHC-MASTARSSP/\u001b[37m\u001b[39;49;00m\n",
      "\u001b[37m\u001b[39;49;00m\n",
      "During handling of the above exception, another exception occurred:\n",
      "\n",
      "Traceback (most recent call last):\n",
      "  File \u001b[36m\"C:\\Users\\steph\\miniconda3\\envs\\marvin\\lib\\site-packages\\marvin\\tools\\maps.py\"\u001b[39;49;00m, line \u001b[34m378\u001b[39;49;00m, in _load_maps_from_api\u001b[37m\u001b[39;49;00m\n",
      "\u001b[37m    \u001b[39;49;00mresponse = \u001b[36mself\u001b[39;49;00m._toolInteraction(url_full)\u001b[37m\u001b[39;49;00m\n",
      "  File \u001b[36m\"C:\\Users\\steph\\miniconda3\\envs\\marvin\\lib\\site-packages\\marvin\\tools\\core.py\"\u001b[39;49;00m, line \u001b[34m134\u001b[39;49;00m, in _toolInteraction\u001b[37m\u001b[39;49;00m\n",
      "\u001b[37m    \u001b[39;49;00m\u001b[34mreturn\u001b[39;49;00m marvin.api.api.Interaction(url, params=params)\u001b[37m\u001b[39;49;00m\n",
      "  File \u001b[36m\"C:\\Users\\steph\\miniconda3\\envs\\marvin\\lib\\site-packages\\brain\\api\\api.py\"\u001b[39;49;00m, line \u001b[34m57\u001b[39;49;00m, in __init__\u001b[37m\u001b[39;49;00m\n",
      "\u001b[37m    \u001b[39;49;00m\u001b[36mself\u001b[39;49;00m._sendRequest(request_type)\u001b[37m\u001b[39;49;00m\n",
      "  File \u001b[36m\"C:\\Users\\steph\\miniconda3\\envs\\marvin\\lib\\site-packages\\brain\\api\\api.py\"\u001b[39;49;00m, line \u001b[34m302\u001b[39;49;00m, in _sendRequest\u001b[37m\u001b[39;49;00m\n",
      "\u001b[37m    \u001b[39;49;00m\u001b[36mself\u001b[39;49;00m._checkResponse(\u001b[36mself\u001b[39;49;00m._response)\u001b[37m\u001b[39;49;00m\n",
      "  File \u001b[36m\"C:\\Users\\steph\\miniconda3\\envs\\marvin\\lib\\site-packages\\brain\\api\\api.py\"\u001b[39;49;00m, line \u001b[34m242\u001b[39;49;00m, in _checkResponse\u001b[37m\u001b[39;49;00m\n",
      "\u001b[37m    \u001b[39;49;00m\u001b[34mraise\u001b[39;49;00m BrainError(\u001b[33m'\u001b[39;49;00m\u001b[33mRequests Http Status Error: \u001b[39;49;00m\u001b[33m{0}\u001b[39;49;00m\u001b[33m\\n\u001b[39;49;00m\u001b[33m{1}\u001b[39;49;00m\u001b[33m'\u001b[39;49;00m.format(http, errmsg))\u001b[37m\u001b[39;49;00m\n",
      "\u001b[91mbrain.core.exceptions.BrainError\u001b[39;49;00m: Requests Http Status Error: 429 Client Error: TOO MANY REQUESTS for url: https://magrathea.sdss.org/marvin/api/maps/8485-1901/HYB10/MILESHC-MASTARSSP/\u001b[37m\u001b[39;49;00m\n",
      "400 per 1 minute\n",
      "\u001b[37m\u001b[39;49;00m\n",
      "During handling of the above exception, another exception occurred:\n",
      "\n",
      "Traceback (most recent call last):\n",
      "  File \u001b[36m\"C:\\Users\\steph\\miniconda3\\envs\\marvin\\lib\\site-packages\\IPython\\core\\interactiveshell.py\"\u001b[39;49;00m, line \u001b[34m3508\u001b[39;49;00m, in run_code\u001b[37m\u001b[39;49;00m\n",
      "\u001b[37m    \u001b[39;49;00mexec(code_obj, \u001b[36mself\u001b[39;49;00m.user_global_ns, \u001b[36mself\u001b[39;49;00m.user_ns)\u001b[37m\u001b[39;49;00m\n",
      "  File \u001b[36m\"C:\\Users\\steph\\AppData\\Local\\Temp\\ipykernel_11576\\2062450862.py\"\u001b[39;49;00m, line \u001b[34m11\u001b[39;49;00m, in <module>\u001b[37m\u001b[39;49;00m\n",
      "\u001b[37m    \u001b[39;49;00mmaps1 = Maps(plateifu=\u001b[33m'\u001b[39;49;00m\u001b[33m8485-1901\u001b[39;49;00m\u001b[33m'\u001b[39;49;00m)\u001b[37m\u001b[39;49;00m\n",
      "  File \u001b[36m\"C:\\Users\\steph\\miniconda3\\envs\\marvin\\lib\\site-packages\\marvin\\tools\\maps.py\"\u001b[39;49;00m, line \u001b[34m113\u001b[39;49;00m, in __init__\u001b[37m\u001b[39;49;00m\n",
      "\u001b[37m    \u001b[39;49;00m\u001b[36mself\u001b[39;49;00m._load_maps_from_api()\u001b[37m\u001b[39;49;00m\n",
      "  File \u001b[36m\"C:\\Users\\steph\\miniconda3\\envs\\marvin\\lib\\site-packages\\marvin\\tools\\maps.py\"\u001b[39;49;00m, line \u001b[34m380\u001b[39;49;00m, in _load_maps_from_api\u001b[37m\u001b[39;49;00m\n",
      "\u001b[37m    \u001b[39;49;00m\u001b[34mraise\u001b[39;49;00m marvin.core.exceptions.MarvinError(\u001b[37m\u001b[39;49;00m\n",
      "\u001b[91mmarvin.core.exceptions.MarvinError\u001b[39;49;00m: found a problem when checking if remote maps exists: Requests Http Status Error: 429 Client Error: TOO MANY REQUESTS for url: https://magrathea.sdss.org/marvin/api/maps/8485-1901/HYB10/MILESHC-MASTARSSP/\u001b[37m\u001b[39;49;00m\n",
      "400 per 1 minute.\n",
      "You can submit this error to Marvin GitHub Issues (https://github.com/sdss/marvin/issues/new).\n",
      "Fill out a subject and some text describing the error that just occurred.\n",
      "If able, copy and paste the full traceback information into the issue as well.\n",
      "\n"
     ]
    }
   ],
   "source": [
    "#print(r.results)\n",
    "input_list = r.results[\"plateifu\"]\n",
    "#image = marvin.utils.general.images.showImage(plateifu='9040-12703')\n",
    "#for item in input_list:\n",
    "    #image = marvin.utils.general.images.showImage(plateifu=f'{item}')\n",
    "\n",
    "\n",
    "# get the stellar velocity maps for these galaxies\n",
    "\n",
    "cube1 = Cube(plateifu='9040-12703')\n",
    "maps1 = Maps(plateifu='8485-1901')\n",
    "maps1"
   ]
  },
  {
   "cell_type": "code",
   "execution_count": null,
   "id": "30832c8d-da4f-4400-967a-e6e80e3e2cd2",
   "metadata": {},
   "outputs": [],
   "source": []
  }
 ],
 "metadata": {
  "kernelspec": {
   "display_name": "Python 3 (ipykernel)",
   "language": "python",
   "name": "python3"
  },
  "language_info": {
   "codemirror_mode": {
    "name": "ipython",
    "version": 3
   },
   "file_extension": ".py",
   "mimetype": "text/x-python",
   "name": "python",
   "nbconvert_exporter": "python",
   "pygments_lexer": "ipython3",
   "version": "3.8.20"
  }
 },
 "nbformat": 4,
 "nbformat_minor": 5
}
