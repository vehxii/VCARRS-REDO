{
 "cells": [
  {
   "cell_type": "code",
   "execution_count": 28,
   "id": "4f57bbe7-fb7b-4a4a-8d2b-f9bf35d52b25",
   "metadata": {},
   "outputs": [],
   "source": [
    "import astropy\n",
    "import dogpile.cache\n",
    "import fuzzywuzzy\n",
    "import os\n",
    "import re\n",
    "import marvin\n",
    "import marvin.utils.plot.map as mapplot\n",
    "import matplotlib\n",
    "import numpy as np\n",
    "import numpyencoder\n",
    "import packaging\n",
    "import pandas\n",
    "import photutils\n",
    "import raven\n",
    "import scipy\n",
    "import sdss_access\n",
    "import sdsstools\n",
    "import webargs\n",
    "import werkzeug\n",
    "import yamlordereddictloader\n",
    "\n",
    "\n",
    "import matplotlib.pyplot as plt\n",
    "from marvin import config\n",
    "from marvin.tools import Maps\n",
    "from marvin.tools.image import Image\n",
    "from marvin.tools.cube import Cube\n",
    "from marvin.tools import RSS\n",
    "from marvin.utils.general.general import get_drpall_table\n",
    "from marvin.api.api import Interaction\n",
    "\n",
    "from astropy.io import fits\n",
    "from astropy import units as u\n",
    "\n",
    "%matplotlib inline\n",
    "plt.style.use('seaborn-darkgrid')  # set matplotlib style sheet\n",
    "\n",
    "config.mode = 'remote'\n",
    "config.access = 'public'\n",
    "config.use_sentry = True\n",
    "config.setRelease('DR17')\n",
    "config.setDR('DR17')\n",
    "#config.sasurl\n",
    "#config.urlmap\n",
    "config.switchSasUrl(sasmode='mirror', ngrokid=None, port=5000, test=False, base=None, public=True)"
   ]
  },
  {
   "cell_type": "code",
   "execution_count": 29,
   "id": "56fbcb35-b173-4277-b53a-8eeb59c2c9d9",
   "metadata": {},
   "outputs": [],
   "source": [
    "#troubleshooting code\n",
    "\n",
    "#print(os.environ['SAS_BASE_DIR'])\n",
    "#print(marvin.config.urlmap)\n",
    "#testcube = Cube(plateifu='8485-1901')\n",
    "#print(testcube)\n",
    "#print(f\"RA: {testcube.ra}\")\n",
    "#print(f\"Dec: {testcube.dec}\")\n",
    "\n",
    "#print(testcube.nsa)\n",
    "\n",
    "# access the spaxel from the lower left corner of the Cube for 8485-1901\n",
    "#spaxel = testcube.getSpaxel(0,0)\n",
    "# represent the spaxel\n",
    "#print(spaxel)\n",
    "\n",
    "#flux = spaxel.flux\n",
    "#flux.plot()\n",
    "#print(flux.value, flux.ivar, flux.wavelength)\n",
    "\n",
    "#maps = testcube.getMaps()\n",
    "#print(maps)\n",
    "#ha = maps.getMap('emline_gflux_ha_6564')\n",
    "\n",
    "#maps = Maps(plateifu='7443-12703')\n",
    "#maps.datamodel\n",
    "\n",
    "#print(f\"Database access: {config.db}\")"
   ]
  },
  {
   "cell_type": "code",
   "execution_count": 30,
   "id": "a5ca101a-5b06-4d03-b3e7-c77d42dd9163",
   "metadata": {},
   "outputs": [
    {
     "name": "stdout",
     "output_type": "stream",
     "text": [
      "200 good if 200\n"
     ]
    }
   ],
   "source": [
    "# get and format an API url to retrieve basic Cube properties\n",
    "plateifu = '7443-12701'\n",
    "url = config.urlmap['api']['getCube']['url']\n",
    "\n",
    "# create and send the request, and retrieve a response\n",
    "response = Interaction(url.format(name=plateifu))\n",
    "\n",
    "# check your response's status code\n",
    "print(response.status_code, \"good if 200\")\n",
    "200\n",
    "\n",
    "# get the data in your response\n",
    "data = response.getData()\n",
    "#print(data)"
   ]
  },
  {
   "cell_type": "code",
   "execution_count": 5,
   "id": "336b602f-1b12-4b12-a0c1-10964a2375f8",
   "metadata": {},
   "outputs": [
    {
     "name": "stderr",
     "output_type": "stream",
     "text": [
      "[WARNING]: subprocess 6212 is still running (ResourceWarning)\n",
      "[WARNING]: subprocess 19324 is still running (ResourceWarning)\n"
     ]
    }
   ],
   "source": [
    "images = Image.from_list(['7443-12701', '7443-12702'])\n",
    "images[0].show()\n",
    "images[1].show()"
   ]
  },
  {
   "cell_type": "code",
   "execution_count": 6,
   "id": "02b4988a-b32f-4c73-9407-e3f5e26eb9c2",
   "metadata": {},
   "outputs": [],
   "source": [
    "#images2 = marvin.utils.general.images.get_images_by_plate(8485)\n",
    "#for image in images2:\n",
    "#    image.show()"
   ]
  },
  {
   "cell_type": "markdown",
   "id": "fb942771-c5b9-4ce5-b9c1-170ca5ecca26",
   "metadata": {},
   "source": [
    "**Goal:** redo VCARRS with expanded search using the small angle approx\n",
    "* use sklearn to train a model on sorting spiral vs elliptical\n",
    "* repeat rotation curve and CLD measurements to calculate DM content\n",
    "* create histograms of DM fraction vs # of galaxies, see if there's any differences between spiral and elliptical\n",
    "* **hypothesis:** elliptical galaxies have higher DM content due to slower rotation and random stellar orbits"
   ]
  },
  {
   "cell_type": "code",
   "execution_count": 8,
   "id": "2bacf0f3-4787-4911-9ddc-cfb33377776b",
   "metadata": {},
   "outputs": [
    {
     "name": "stdout",
     "output_type": "stream",
     "text": [
      "8481-6103 0.04674866\n"
     ]
    },
    {
     "name": "stderr",
     "output_type": "stream",
     "text": [
      "[WARNING]: cannot load NSA information for mangaid='51-77'. (MarvinUserWarning)\n"
     ]
    },
    {
     "name": "stdout",
     "output_type": "stream",
     "text": [
      "No cube for 12040-6102\n",
      "9028-3702 0.04822156\n"
     ]
    },
    {
     "name": "stderr",
     "output_type": "stream",
     "text": [
      "[WARNING]: cannot load NSA information for mangaid='51-70'. (MarvinUserWarning)\n"
     ]
    },
    {
     "name": "stdout",
     "output_type": "stream",
     "text": [
      "No cube for 10148-1901\n",
      "8249-3703 0.026438024\n",
      "8137-12705 0.0409416\n",
      "8991-1901 0.05013228\n",
      "8322-6104 0.046931956\n",
      "8091-9101 0.031411078\n",
      "8247-9101 0.041565735\n"
     ]
    },
    {
     "data": {
      "text/plain": [
       "<matplotlib.collections.PathCollection at 0x210ce5d6700>"
      ]
     },
     "execution_count": 8,
     "metadata": {},
     "output_type": "execute_result"
    },
    {
     "data": {
      "image/png": "[encoded data removed]",
      "text/plain": [
       "<Figure size 640x480 with 1 Axes>"
      ]
     },
     "metadata": {},
     "output_type": "display_data"
    }
   ],
   "source": [
    "# testing different ways to get NSA parameters, specifically redshift z\n",
    "\n",
    "images3 = marvin.utils.general.images.get_random_images(10)\n",
    "test = []\n",
    "\n",
    "for item in images3:\n",
    "    #print(item.__dict__)\n",
    "    ifu = item.plateifu\n",
    "\n",
    "    try:\n",
    "        cube = Cube(plateifu = ifu)\n",
    "        print(ifu, cube.nsa['z'])\n",
    "        test.append(cube.nsa['z'])\n",
    "\n",
    "    except:\n",
    "        print(f\"No cube for {ifu}\")\n",
    "\n",
    "xaxis = np.arange(0, len(test), 1)\n",
    "plt.scatter(xaxis, test)"
   ]
  },
  {
   "cell_type": "code",
   "execution_count": 4,
   "id": "a46a2576-a6ab-4724-bad7-b777aa814a04",
   "metadata": {},
   "outputs": [
    {
     "name": "stdout",
     "output_type": "stream",
     "text": [
      "Marvin Query(filter='nsa.z < 0.05', mode='remote', data_origin='api')\n",
      "Marvin Results(query=nsa.z < 0.05, totalcount=7151, count=100, mode=remote)\n",
      "number of results: 7151\n"
     ]
    }
   ],
   "source": [
    "# the above method is slow and inefficient and sometimes fails completely when it finds a galaxy that lacks NSA params\n",
    "# Query is much faster:\n",
    "\n",
    "from marvin.tools.query import Query\n",
    "\n",
    "my_filter = 'nsa.z < 0.05'\n",
    "q = Query(search_filter=my_filter)\n",
    "print(q)\n",
    "\n",
    "# run the query\n",
    "r = q.run()\n",
    "\n",
    "# print some results information\n",
    "print(r)\n",
    "print('number of results:', r.totalcount)"
   ]
  },
  {
   "cell_type": "markdown",
   "id": "a37f9d59-2411-489d-b24f-34897910fe54",
   "metadata": {},
   "source": [
    "Easy First Step: Rotation Curve\n",
    "Steps:\n",
    "1. Import units and constants\n",
    "2. Seach for galaxies, start with a filter where the inclination angle ~ 0 degrees to our viewing plane\n",
    "3. Get a stellar velocity dispersion map for every such galaxy\n",
    "4. Calculate mass from the velocities"
   ]
  },
  {
   "cell_type": "code",
   "execution_count": 31,
   "id": "b3d4c484-0d0a-45dc-bfc4-03adbc4984ae",
   "metadata": {},
   "outputs": [],
   "source": [
    "# using previous work (STARS final project) as hints\n",
    "\n",
    "from astropy import constants as C\n",
    "from astropy import units as u\n",
    "from marvin.tools.query import Query\n",
    "from marvin.tools import Maps"
   ]
  },
  {
   "cell_type": "markdown",
   "id": "4106a8d2-9e80-4fa7-889c-d686c364a8a7",
   "metadata": {},
   "source": [
    "elpetro_ba is the b/a ratio. a high b/a (close to 1) means that the galaxy is close to perfectly face-on, while a low b/a (close to 0) means that the galaxy is perfectly edge-on"
   ]
  },
  {
   "cell_type": "code",
   "execution_count": 5,
   "id": "ad064e85-6058-4bd4-aaeb-0a446be6c899",
   "metadata": {},
   "outputs": [
    {
     "name": "stdout",
     "output_type": "stream",
     "text": [
      "Marvin Query(filter='nsa.elpetro_ba < 0.17', mode='remote', data_origin='api')\n",
      "number of results: 3\n"
     ]
    }
   ],
   "source": [
    "my_filter = 'nsa.elpetro_ba < 0.17'\n",
    "q = Query(search_filter=my_filter)\n",
    "print(q)\n",
    "\n",
    "# run the query\n",
    "r = q.run()\n",
    "\n",
    "# print some results information\n",
    "print('number of results:', r.totalcount)"
   ]
  },
  {
   "cell_type": "code",
   "execution_count": 32,
   "id": "b17918e8-b2e8-4aa2-a196-05db9e65c957",
   "metadata": {},
   "outputs": [
    {
     "name": "stdout",
     "output_type": "stream",
     "text": [
      "10226\n"
     ]
    }
   ],
   "source": [
    "q = Query(search_filter='nsa.sersic_logmass > 0') \n",
    "results = q.run()\n",
    "    \n",
    "# Get the total count of results\n",
    "total_count = results.totalcount\n",
    "print(total_count)"
   ]
  },
  {
   "cell_type": "code",
   "execution_count": 33,
   "id": "0ef502ad-55d9-4c54-ac0a-d3178b339763",
   "metadata": {},
   "outputs": [],
   "source": [
    "from marvin.tools.query import Query\n",
    "from marvin.utils.datamodel.query.base import query_params\n",
    "\n",
    "#query_params.list_params()\n",
    "\n",
    "query = Query(search_filter='nsa.sersic_logmass > 0', limit = total_count)\n",
    "results = query.run()\n",
    "\n",
    "sersic_logmass = []\n",
    "\n",
    "for i in range(total_count):\n",
    "    #print(i, results.results[i][2])\n",
    "    sersic_logmass.append(results.results[i][2])"
   ]
  },
  {
   "cell_type": "code",
   "execution_count": 34,
   "id": "4b0c5651-93ed-43a7-9055-877c7cca16ee",
   "metadata": {},
   "outputs": [
    {
     "data": {
      "image/png": "[encoded data removed]",
      "text/plain": [
       "<Figure size 640x480 with 1 Axes>"
      ]
     },
     "metadata": {},
     "output_type": "display_data"
    }
   ],
   "source": [
    "test = np.arange(1, len(sersic_logmass)+1, 1)\n",
    "\n",
    "avg_logmass = (np.sum(sersic_logmass) / len(sersic_logmass))\n",
    "\n",
    "fig, ax = plt.subplots()\n",
    "ax.scatter(test, sersic_logmass)\n",
    "ax.set_xlabel(\"Galaxy #\")\n",
    "ax.set_ylabel(\"Log Base 10 of Mass\")\n",
    "plt.axhline(y=avg_logmass, color='tab:red', linestyle='--', label= f'Average Sersic Log Mass = {avg_logmass:.2f}')\n",
    "plt.text(0.5, 14, f\"Number of galaxies in the survey: {len(sersic_logmass)}\")\n",
    "ax.legend()\n",
    "plt.show()"
   ]
  }
 ],
 "metadata": {
  "kernelspec": {
   "display_name": "Python 3 (ipykernel)",
   "language": "python",
   "name": "python3"
  },
  "language_info": {
   "codemirror_mode": {
    "name": "ipython",
    "version": 3
   },
   "file_extension": ".py",
   "mimetype": "text/x-python",
   "name": "python",
   "nbconvert_exporter": "python",
   "pygments_lexer": "ipython3",
   "version": "3.8.20"
  }
 },
 "nbformat": 4,
 "nbformat_minor": 5
}
