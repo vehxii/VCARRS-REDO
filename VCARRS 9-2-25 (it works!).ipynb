{
 "cells": [
  {
   "cell_type": "code",
   "execution_count": 1,
   "id": "4f57bbe7-fb7b-4a4a-8d2b-f9bf35d52b25",
   "metadata": {},
   "outputs": [
    {
     "name": "stderr",
     "output_type": "stream",
     "text": [
      "[WARNING]: cannot initiate Sentry error reporting: unknown error. (UserWarning)\n",
      "[INFO]: No release version set. Setting default to DR17\n"
     ]
    }
   ],
   "source": [
    "import astropy\n",
    "import dogpile.cache\n",
    "import fuzzywuzzy\n",
    "import os\n",
    "import re\n",
    "import marvin\n",
    "import marvin.utils.plot.map as mapplot\n",
    "import matplotlib\n",
    "import numpy as np\n",
    "import numpyencoder\n",
    "import packaging\n",
    "import pandas\n",
    "import photutils\n",
    "import raven\n",
    "import scipy\n",
    "import sdss_access\n",
    "import sdsstools\n",
    "import webargs\n",
    "import werkzeug\n",
    "import yamlordereddictloader\n",
    "import time\n",
    "import matplotlib.pyplot as plt\n",
    "\n",
    "\n",
    "from marvin import config\n",
    "from marvin.tools import Maps\n",
    "from marvin.tools.image import Image\n",
    "from marvin.tools.cube import Cube\n",
    "from marvin.tools.query import Query\n",
    "from marvin.utils.datamodel.query.base import query_params\n",
    "from marvin.tools import RSS\n",
    "from marvin.utils.general.general import get_drpall_table\n",
    "from marvin.api.api import Interaction\n",
    "\n",
    "from astropy.io import fits\n",
    "from astropy import units as u\n",
    "from astropy import constants as C\n",
    "\n",
    "%matplotlib inline\n",
    "plt.style.use('seaborn-darkgrid')  # set matplotlib style sheet\n",
    "\n",
    "config.mode = 'remote'\n",
    "config.access = 'public'\n",
    "config.use_sentry = True\n",
    "config.setRelease('DR17')\n",
    "config.setDR('DR17')\n",
    "#config.sasurl\n",
    "#config.urlmap\n",
    "config.switchSasUrl(sasmode='mirror', ngrokid=None, port=5000, test=False, base=None, public=True)"
   ]
  },
  {
   "cell_type": "code",
   "execution_count": 3,
   "id": "56fbcb35-b173-4277-b53a-8eeb59c2c9d9",
   "metadata": {},
   "outputs": [
    {
     "data": {
      "text/plain": [
       "'\\nprint(os.environ[\\'SAS_BASE_DIR\\'])\\nprint(marvin.config.urlmap)\\ntestcube = Cube(plateifu=\\'8485-1901\\')\\nprint(testcube)\\nprint(f\"RA: {testcube.ra}\")\\nprint(f\"Dec: {testcube.dec}\")\\n\\nprint(testcube.nsa)\\n\\n# access the spaxel from the lower left corner of the Cube for 8485-1901\\nspaxel = testcube.getSpaxel(0,0)\\n# represent the spaxel\\nprint(spaxel)\\n\\nflux = spaxel.flux\\nflux.plot()\\nprint(flux.value, flux.ivar, flux.wavelength)\\n\\nmaps = testcube.getMaps()\\nprint(maps)\\nha = maps.getMap(\\'emline_gflux_ha_6564\\')\\n\\n#maps.datamodel\\n\\nprint(f\"Database access: {config.db}\")\\n'"
      ]
     },
     "execution_count": 3,
     "metadata": {},
     "output_type": "execute_result"
    }
   ],
   "source": [
    "#troubleshooting code\n",
    "\n",
    "'''\n",
    "print(os.environ['SAS_BASE_DIR'])\n",
    "print(marvin.config.urlmap)\n",
    "testcube = Cube(plateifu='8485-1901')\n",
    "print(testcube)\n",
    "print(f\"RA: {testcube.ra}\")\n",
    "print(f\"Dec: {testcube.dec}\")\n",
    "\n",
    "print(testcube.nsa)\n",
    "\n",
    "# access the spaxel from the lower left corner of the Cube for 8485-1901\n",
    "spaxel = testcube.getSpaxel(0,0)\n",
    "# represent the spaxel\n",
    "print(spaxel)\n",
    "\n",
    "flux = spaxel.flux\n",
    "flux.plot()\n",
    "print(flux.value, flux.ivar, flux.wavelength)\n",
    "\n",
    "maps = testcube.getMaps()\n",
    "print(maps)\n",
    "ha = maps.getMap('emline_gflux_ha_6564')\n",
    "\n",
    "#maps.datamodel\n",
    "\n",
    "print(f\"Database access: {config.db}\")\n",
    "'''"
   ]
  },
  {
   "cell_type": "code",
   "execution_count": 4,
   "id": "a5ca101a-5b06-4d03-b3e7-c77d42dd9163",
   "metadata": {},
   "outputs": [
    {
     "name": "stdout",
     "output_type": "stream",
     "text": [
      "200 good if 200\n"
     ]
    }
   ],
   "source": [
    "# get and format an API url to retrieve basic Cube properties\n",
    "plateifu = '7443-12701'\n",
    "url = config.urlmap['api']['getCube']['url']\n",
    "\n",
    "# create and send the request, and retrieve a response\n",
    "response = Interaction(url.format(name=plateifu))\n",
    "\n",
    "# check your response's status code\n",
    "print(response.status_code, \"good if 200\")\n",
    "200\n",
    "\n",
    "# get the data in your response\n",
    "data = response.getData()\n",
    "#print(data)"
   ]
  },
  {
   "cell_type": "code",
   "execution_count": 5,
   "id": "336b602f-1b12-4b12-a0c1-10964a2375f8",
   "metadata": {},
   "outputs": [
    {
     "name": "stderr",
     "output_type": "stream",
     "text": [
      "[WARNING]: subprocess 164 is still running (ResourceWarning)\n",
      "[WARNING]: subprocess 17868 is still running (ResourceWarning)\n",
      "[WARNING]: subprocess 14096 is still running (ResourceWarning)\n",
      "[WARNING]: subprocess 1904 is still running (ResourceWarning)\n"
     ]
    }
   ],
   "source": [
    "images = Image.from_list(['10839-12701', '8330-3701', '9028-12704', '9033-9102'])\n",
    "for image in images:\n",
    "    image.show()"
   ]
  },
  {
   "cell_type": "code",
   "execution_count": 6,
   "id": "02b4988a-b32f-4c73-9407-e3f5e26eb9c2",
   "metadata": {},
   "outputs": [],
   "source": [
    "#images2 = marvin.utils.general.images.get_images_by_plate(8485)\n",
    "#for image in images2:\n",
    "#    image.show()"
   ]
  },
  {
   "cell_type": "markdown",
   "id": "fb942771-c5b9-4ce5-b9c1-170ca5ecca26",
   "metadata": {},
   "source": [
    "**Goal:** redo VCARRS with expanded search using the small angle approx\n",
    "* use sklearn to train a model on sorting spiral vs elliptical\n",
    "* repeat rotation curve and CLD measurements to calculate DM content\n",
    "* create histograms of DM fraction vs # of galaxies, see if there's any differences between spiral and elliptical\n",
    "* **hypothesis:** elliptical galaxies have higher DM content due to slower rotation and random stellar orbits"
   ]
  },
  {
   "cell_type": "code",
   "execution_count": 8,
   "id": "2bacf0f3-4787-4911-9ddc-cfb33377776b",
   "metadata": {},
   "outputs": [
    {
     "name": "stdout",
     "output_type": "stream",
     "text": [
      "8481-6103 0.04674866\n"
     ]
    },
    {
     "name": "stderr",
     "output_type": "stream",
     "text": [
      "[WARNING]: cannot load NSA information for mangaid='51-77'. (MarvinUserWarning)\n"
     ]
    },
    {
     "name": "stdout",
     "output_type": "stream",
     "text": [
      "No cube for 12040-6102\n",
      "9028-3702 0.04822156\n"
     ]
    },
    {
     "name": "stderr",
     "output_type": "stream",
     "text": [
      "[WARNING]: cannot load NSA information for mangaid='51-70'. (MarvinUserWarning)\n"
     ]
    },
    {
     "name": "stdout",
     "output_type": "stream",
     "text": [
      "No cube for 10148-1901\n",
      "8249-3703 0.026438024\n",
      "8137-12705 0.0409416\n",
      "8991-1901 0.05013228\n",
      "8322-6104 0.046931956\n",
      "8091-9101 0.031411078\n",
      "8247-9101 0.041565735\n"
     ]
    },
    {
     "data": {
      "text/plain": [
       "<matplotlib.collections.PathCollection at 0x210ce5d6700>"
      ]
     },
     "execution_count": 8,
     "metadata": {},
     "output_type": "execute_result"
    },
    {
     "data": {
      "image/png": "[encoded data removed]",
      "text/plain": [
       "<Figure size 640x480 with 1 Axes>"
      ]
     },
     "metadata": {},
     "output_type": "display_data"
    }
   ],
   "source": [
    "# testing different ways to get NSA parameters, specifically redshift z\n",
    "\n",
    "images3 = marvin.utils.general.images.get_random_images(10)\n",
    "test = []\n",
    "\n",
    "for item in images3:\n",
    "    #print(item.__dict__)\n",
    "    ifu = item.plateifu\n",
    "\n",
    "    try:\n",
    "        cube = Cube(plateifu = ifu)\n",
    "        print(ifu, cube.nsa['z'])\n",
    "        test.append(cube.nsa['z'])\n",
    "\n",
    "    except:\n",
    "        print(f\"No cube for {ifu}\")\n",
    "\n",
    "xaxis = np.arange(0, len(test), 1)\n",
    "plt.scatter(xaxis, test)"
   ]
  },
  {
   "cell_type": "code",
   "execution_count": 4,
   "id": "a46a2576-a6ab-4724-bad7-b777aa814a04",
   "metadata": {},
   "outputs": [
    {
     "name": "stdout",
     "output_type": "stream",
     "text": [
      "Marvin Query(filter='nsa.z < 0.05', mode='remote', data_origin='api')\n",
      "Marvin Results(query=nsa.z < 0.05, totalcount=7151, count=100, mode=remote)\n",
      "number of results: 7151\n"
     ]
    }
   ],
   "source": [
    "# the above method is slow and inefficient and sometimes fails completely when it finds a galaxy that lacks NSA params\n",
    "# Query is much faster:\n",
    "\n",
    "from marvin.tools.query import Query\n",
    "\n",
    "my_filter = 'nsa.z < 0.05'\n",
    "q = Query(search_filter=my_filter)\n",
    "print(q)\n",
    "\n",
    "# run the query\n",
    "r = q.run()\n",
    "\n",
    "# print some results information\n",
    "print(r)\n",
    "print('number of results:', r.totalcount)"
   ]
  },
  {
   "cell_type": "markdown",
   "id": "a37f9d59-2411-489d-b24f-34897910fe54",
   "metadata": {},
   "source": [
    "Easy First Step: Rotation Curve\n",
    "Steps:\n",
    "1. Import units and constants\n",
    "2. Seach for galaxies, start with a filter where the inclination angle ~ 0 degrees to our viewing plane\n",
    "3. Get a stellar velocity dispersion map for every such galaxy\n",
    "4. Calculate mass from the velocities\n",
    "\n",
    "* using previous work (STARS final project) as hints"
   ]
  },
  {
   "cell_type": "markdown",
   "id": "4106a8d2-9e80-4fa7-889c-d686c364a8a7",
   "metadata": {},
   "source": [
    "elpetro_ba is the b/a ratio. a high b/a (close to 1) means that the galaxy is close to perfectly face-on, while a low b/a (close to 0) means that the galaxy is perfectly edge-on"
   ]
  },
  {
   "cell_type": "code",
   "execution_count": 5,
   "id": "ad064e85-6058-4bd4-aaeb-0a446be6c899",
   "metadata": {},
   "outputs": [
    {
     "name": "stdout",
     "output_type": "stream",
     "text": [
      "Marvin Query(filter='nsa.elpetro_ba > 0.25 and nsa.elpetro_ba < 0.5', mode='remote', data_origin='api')\n",
      "number of results: 1597\n"
     ]
    }
   ],
   "source": [
    "my_filter = 'nsa.elpetro_ba > 0.25 and nsa.elpetro_ba < 0.5'\n",
    "q = Query(search_filter=my_filter)\n",
    "print(q)\n",
    "\n",
    "# run the query\n",
    "r = q.run()\n",
    "\n",
    "# print some results information\n",
    "print('number of results:', r.totalcount)"
   ]
  },
  {
   "cell_type": "code",
   "execution_count": 67,
   "id": "b17918e8-b2e8-4aa2-a196-05db9e65c957",
   "metadata": {},
   "outputs": [
    {
     "name": "stdout",
     "output_type": "stream",
     "text": [
      "601\n"
     ]
    }
   ],
   "source": [
    "myfilter = 'nsa.sersic_logmass > 10 and nsa.sersic_logmass < 12 and nsa.elpetro_ba > 0.2 and nsa.elpetro_ba < 0.5'\n",
    "q = Query(search_filter = myfilter) \n",
    "results = q.run()\n",
    "    \n",
    "# Get the total count of results\n",
    "total_count = results.totalcount\n",
    "print(total_count)"
   ]
  },
  {
   "cell_type": "code",
   "execution_count": 68,
   "id": "0ef502ad-55d9-4c54-ac0a-d3178b339763",
   "metadata": {},
   "outputs": [],
   "source": [
    "#query_params.list_params()\n",
    "query = Query(search_filter = myfilter, limit = total_count)\n",
    "results = query.run()\n",
    "\n",
    "mangaids = []\n",
    "sersic_logmass = []\n",
    "\n",
    "for i in range(total_count):\n",
    "    #print(i, results.results[i])\n",
    "    mangaids.append(results.results[i][0])\n",
    "    sersic_logmass.append(results.results[i][2])"
   ]
  },
  {
   "cell_type": "code",
   "execution_count": 69,
   "id": "4b0c5651-93ed-43a7-9055-877c7cca16ee",
   "metadata": {},
   "outputs": [
    {
     "data": {
      "image/png": "[encoded data removed]",
      "text/plain": [
       "<Figure size 640x480 with 2 Axes>"
      ]
     },
     "metadata": {},
     "output_type": "display_data"
    }
   ],
   "source": [
    "#test = np.arange(1, len(sersic_logmass)+1, 1)\n",
    "\n",
    "nbins = 100\n",
    "\n",
    "avg_logmass = (np.sum(sersic_logmass) / len(sersic_logmass))\n",
    "\n",
    "fig, ax = plt.subplots(1, 2)\n",
    "ax[0].hist(sersic_logmass, bins = nbins)\n",
    "ax[1].hist(sersic_logmass, bins = nbins)\n",
    "ax[0].set_xlabel(\"Log Base 10 of Mass\")\n",
    "ax[0].set_ylabel(\"# of Galaxies\")\n",
    "ax[1].set_xlabel(\"Log Base 10 of Mass\")\n",
    "ax[1].set_ylabel(\"Log Base 10 of # of Galaxies\")\n",
    "ax[1].set_yscale(\"log\")\n",
    "#plt.axvline(x=avg_logmass, color='tab:red', linestyle='--', label= f'Average Sersic Log Mass = {avg_logmass:.2f}')\n",
    "plt.suptitle(\"Stellar Mass Functions for Galaxies in Marvin SDSS DR17\")\n",
    "ax[0].set_title(f\"Number of galaxies in the survey: {len(sersic_logmass)}\", fontsize = 8)\n",
    "ax[1].set_title(f\"Number of galaxies in the survey: {len(sersic_logmass)}\", fontsize = 8)\n",
    "#ax.legend()\n",
    "plt.show()"
   ]
  },
  {
   "cell_type": "code",
   "execution_count": 10,
   "id": "c50d593c-290e-433c-936c-a4e4d94994c7",
   "metadata": {},
   "outputs": [
    {
     "name": "stdout",
     "output_type": "stream",
     "text": [
      "0 1-10177\n"
     ]
    },
    {
     "name": "stderr",
     "output_type": "stream",
     "text": [
      "[WARNING]: invalid value encountered in multiply (RuntimeWarning)\n",
      "[WARNING]: invalid value encountered in divide (RuntimeWarning)\n"
     ]
    },
    {
     "name": "stdout",
     "output_type": "stream",
     "text": [
      "1 1-10425\n",
      "2 1-106664\n",
      "3 1-107841\n",
      "4 1-108250\n"
     ]
    },
    {
     "name": "stderr",
     "output_type": "stream",
     "text": [
      "[WARNING]: invalid value encountered in sqrt (RuntimeWarning)\n"
     ]
    },
    {
     "name": "stdout",
     "output_type": "stream",
     "text": [
      "5 1-109244\n",
      "6 1-109394\n",
      "7 1-109909\n",
      "8 1-113418\n",
      "9 1-114325\n"
     ]
    }
   ],
   "source": [
    "#testifus = ['8485-1901', '8987-12702']\n",
    "stellarvel = []\n",
    "stellarsigmacorr = []\n",
    "test3 = []\n",
    "\n",
    "for index, mid in enumerate(mangaids[0:10]):\n",
    "    print(index, mid)\n",
    "    tries = 0\n",
    "    while tries < 3:\n",
    "        \n",
    "        try:\n",
    "            maps = Maps(mangaid = mid)\n",
    "            stellar_velocity = maps.getMap('stellar_vel')            # Stellar velocity is stored in the 'stellar_vel' property.\n",
    "            stellarvel.append(stellar_velocity)\n",
    "            stellar_sigma_raw = maps.getMap('stellar_sigma')         # The raw stellar velocity dispersion is in 'stellar_sigma'; must be corrected for instrumental resolution.\n",
    "            stellar_sigma_corrected = stellar_sigma_raw.inst_sigma_correction()  # Apply the instrumental correction to the velocity dispersion. This will ignore points where the correction is larger than the raw value.\n",
    "            stellarsigmacorr.append(stellar_sigma_corrected)\n",
    "            radius = maps.getMap('spx_ellcoo_r_re')\n",
    "            test3.append(radius)\n",
    "            break\n",
    "\n",
    "        except marvin.core.exceptions.MarvinError:\n",
    "            print(\"marvin.core.exceptions.MarvinError\")\n",
    "            time.sleep(15)\n",
    "            tries += 1\n",
    "\n",
    "        if tries == 3:\n",
    "            print(\"Uh oh!\")"
   ]
  },
  {
   "cell_type": "code",
   "execution_count": null,
   "id": "2b056cba-8f4d-4c64-baaf-7bc8a1ae21ee",
   "metadata": {},
   "outputs": [
    {
     "name": "stdout",
     "output_type": "stream",
     "text": [
      "0 1-10177 37938930210.39874 12752851000.000002 2.9749371501634214\n",
      "1 1-10425 275790346015.7043 12752851000.000002 21.625779679830355\n",
      "2 1-106664 44681701617.15386 12752851000.000002 3.503663738967377\n",
      "3 1-107841 27795584123.830147 12752851000.000002 2.179558447270351\n",
      "4 1-108250 17121971891.053335 12752851000.000002 1.3425995403736257\n",
      "5 1-109244 27970284164.938915 12752851000.000002 2.1932573480972146\n",
      "6 1-109394 21651362851.638573 12752851000.000002 1.6977664721118886\n",
      "7 1-109909 96235364987.38724 12752851000.000002 7.546184377704031\n",
      "8 1-113418 22461072242.04423 12752851000.000002 1.7612588935638178\n",
      "9 1-114325 12429087453.372456 12752851000.000002 0.9746124575102817\n",
      "10 1-114973 263574844099.81967 12752851000.000002 20.667915284183877\n",
      "11 1-115128 18220414103.44719 12752851000.000002 1.4287326107273728\n",
      "12 1-115162 22555679814.16861 12752851000.000002 1.7686774364546882\n",
      "13 1-115317 17321754055.308956 12752851000.000002 1.3582652267566644\n",
      "14 1-115345 27178528980.92726 12752851000.000002 2.1311727848876503\n"
     ]
    }
   ],
   "source": [
    "fname = 'C:/Users/steph/sas/dr17/manga/spectro/analysis/v3_1_1/3.1.0/dapall-v3_1_1-3.1.0.fits'\n",
    "dapall = fits.getdata(fname)\n",
    "\n",
    "DMratios = []\n",
    "\n",
    "for index, mid in enumerate(mangaids[0:50]):\n",
    "    row = dapall[dapall['MANGAID'] == mid]\n",
    "    ba = row['NSA_ELPETRO_BA'][0]\n",
    "    phi = row['NSA_ELPETRO_PHI'][0]\n",
    "    theta=-(90-phi)\n",
    "    a = 15 #define\n",
    "    b = ba*a\n",
    "\n",
    "    maps = Maps(mangaid = mid, mode = 'remote')\n",
    "    cube = Cube(id)\n",
    "    testvmap = maps['stellar_sigma']\n",
    "    testrmap = (maps['spx_ellcoo_r_re'].value * dapall[dapall['MANGAID'] == mid]['nsa_elpetro_th50_r'])\n",
    "\n",
    "    c = testvmap.shape[0]//2\n",
    "    aperture = cube.getAperture((c,c),(a,b,np.radians(theta)),aperture_type='elliptical')\n",
    "    spax = aperture.getSpaxels()\n",
    "\n",
    "    mmap = np.zeros(testvmap.shape)\n",
    "    for spaxel in spax:\n",
    "        x = spaxel.x\n",
    "        y = spaxel.y\n",
    "        v = testvmap[y,x]\n",
    "        r = testrmap[y,x]\n",
    "    \n",
    "        m = ((v.value**2)*((r*u.kpc).to(u.km).value)/(C.G.to(u.km**3 / u.M_sun / u.s**2).value))\n",
    "        #print(v, r, m)\n",
    "        mmap[y,x] = m\n",
    "\n",
    "    rot_Mass = mmap.max()\n",
    "    lum_Mass = 10 ** Maps(id).nsa['sersic_logmass']\n",
    "    Mratio = rot_Mass / lum_Mass\n",
    "    print(index, mid, rot_Mass, lum_Mass, Mratio)\n",
    "    DMratios.append(Mratio)\n",
    "\n",
    "print(DMratios)\n",
    "\n",
    "\n",
    "\n",
    "#plt.imshow(mmap,origin='lower', cmap = 'viridis')\n",
    "#plt.colorbar(label='Mass (in Solar Masses)', orientation = 'vertical')\n",
    "#plt.title('Cumulative Mass Map')\n",
    "#plt.xlabel('Spaxels')\n",
    "#plt.ylabel('Spaxels')"
   ]
  },
  {
   "cell_type": "code",
   "execution_count": 85,
   "id": "c0ff92a2-c57b-4f83-b1e2-ea1917efaee5",
   "metadata": {},
   "outputs": [
    {
     "data": {
      "image/png": "[encoded data removed]",
      "text/plain": [
       "<Figure size 640x480 with 1 Axes>"
      ]
     },
     "metadata": {},
     "output_type": "display_data"
    }
   ],
   "source": [
    "nbins = 50\n",
    "test = np.arange(1, len(DMratios)+1, 1)\n",
    "\n",
    "fig, ax = plt.subplots()\n",
    "\n",
    "ax.scatter(test, DMratios)\n",
    "ax.set_xlabel(\"Galaxy #\")\n",
    "ax.set_ylabel(\"Dark Matter Content (Mrot / Mlum)\")\n",
    "ax.set_title(\"Dark Matter Content for Galaxies in MaNGA DR17\")\n",
    "plt.show()"
   ]
  },
  {
   "cell_type": "code",
   "execution_count": null,
   "id": "14c6fa20-f1d8-40a1-9d7b-17c1b5d7eeb7",
   "metadata": {},
   "outputs": [],
   "source": []
  }
 ],
 "metadata": {
  "kernelspec": {
   "display_name": "Python 3 (ipykernel)",
   "language": "python",
   "name": "python3"
  },
  "language_info": {
   "codemirror_mode": {
    "name": "ipython",
    "version": 3
   },
   "file_extension": ".py",
   "mimetype": "text/x-python",
   "name": "python",
   "nbconvert_exporter": "python",
   "pygments_lexer": "ipython3",
   "version": "3.8.20"
  }
 },
 "nbformat": 4,
 "nbformat_minor": 5
}
