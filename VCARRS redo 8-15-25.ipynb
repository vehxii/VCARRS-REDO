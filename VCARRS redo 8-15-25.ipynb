{
 "cells": [
  {
   "cell_type": "code",
   "execution_count": 62,
   "id": "4f57bbe7-fb7b-4a4a-8d2b-f9bf35d52b25",
   "metadata": {},
   "outputs": [],
   "source": [
    "import astropy\n",
    "import dogpile.cache\n",
    "import fuzzywuzzy\n",
    "import os\n",
    "import re\n",
    "import marvin\n",
    "import marvin.utils.plot.map as mapplot\n",
    "import matplotlib\n",
    "import numpy as np\n",
    "import numpyencoder\n",
    "import packaging\n",
    "import pandas\n",
    "import photutils\n",
    "import raven\n",
    "import scipy\n",
    "import sdss_access\n",
    "import sdsstools\n",
    "import webargs\n",
    "import werkzeug\n",
    "import yamlordereddictloader\n",
    "\n",
    "from marvin import config\n",
    "from marvin.tools import Maps\n",
    "from marvin.tools.image import Image\n",
    "from marvin.tools.cube import Cube\n",
    "from marvin.tools import RSS\n",
    "from marvin.utils.general.general import get_drpall_table\n",
    "\n",
    "from astropy.io import fits\n",
    "from astropy import units as u\n",
    "\n",
    "%matplotlib inline\n",
    "\n",
    "config.mode = 'remote'\n",
    "config.use_sentry = True\n",
    "config.setRelease('DR17')\n",
    "plt.style.use('seaborn-darkgrid')  # set matplotlib style sheet"
   ]
  },
  {
   "cell_type": "code",
   "execution_count": 72,
   "id": "56fbcb35-b173-4277-b53a-8eeb59c2c9d9",
   "metadata": {},
   "outputs": [],
   "source": [
    "#troubleshooting code\n",
    "\n",
    "#print(os.environ['SAS_BASE_DIR'])\n",
    "#marvin.config.urlmap\n",
    "#cube = Cube(plateifu='8485-1901')\n",
    "#print(cube)\n",
    "#print(cube.header)\n",
    "#print(f\"RA: {cube.ra}\")\n",
    "#print(f\"Dec: {cube.dec}\")\n",
    "\n",
    "# access the spaxel from the lower left corner of the Cube for 8485-1901\n",
    "#spaxel = cube.getSpaxel(0,0)\n",
    "# represent the spaxel\n",
    "#print(spaxel)\n",
    "\n",
    "#flux = spaxel.flux\n",
    "#flux.plot()\n",
    "\n",
    "#print(flux.value, flux.ivar, flux.wavelength)\n",
    "\n",
    "#maps = cube.getMaps()\n",
    "#print(maps)\n",
    "\n",
    "#maps = Maps(plateifu='7443-12703')\n",
    "#maps.datamodel\n",
    "\n",
    "#im = Image(plateifu = '11978-12705', mode = 'remote')\n",
    "#ax = im.plot()\n",
    "#plt.show() # Display the Matplotlib figure"
   ]
  },
  {
   "cell_type": "code",
   "execution_count": 78,
   "id": "7977d081-892b-4797-95bd-c81fb747da73",
   "metadata": {},
   "outputs": [],
   "source": [
    "#cube.nsa"
   ]
  },
  {
   "cell_type": "code",
   "execution_count": null,
   "id": "cd8cfe93-4a6c-46ed-af65-432c7ffac1b8",
   "metadata": {},
   "outputs": [],
   "source": []
  }
 ],
 "metadata": {
  "kernelspec": {
   "display_name": "Python 3 (ipykernel)",
   "language": "python",
   "name": "python3"
  },
  "language_info": {
   "codemirror_mode": {
    "name": "ipython",
    "version": 3
   },
   "file_extension": ".py",
   "mimetype": "text/x-python",
   "name": "python",
   "nbconvert_exporter": "python",
   "pygments_lexer": "ipython3",
   "version": "3.8.20"
  }
 },
 "nbformat": 4,
 "nbformat_minor": 5
}
